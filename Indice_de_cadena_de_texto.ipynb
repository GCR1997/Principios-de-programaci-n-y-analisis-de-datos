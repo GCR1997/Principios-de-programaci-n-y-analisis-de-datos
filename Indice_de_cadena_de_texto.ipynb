{
  "nbformat": 4,
  "nbformat_minor": 0,
  "metadata": {
    "colab": {
      "provenance": [],
      "authorship_tag": "ABX9TyP2dc5gu9wfnpDK9fkzA9VJ",
      "include_colab_link": true
    },
    "kernelspec": {
      "name": "python3",
      "display_name": "Python 3"
    },
    "language_info": {
      "name": "python"
    }
  },
  "cells": [
    {
      "cell_type": "markdown",
      "metadata": {
        "id": "view-in-github",
        "colab_type": "text"
      },
      "source": [
        "<a href=\"https://colab.research.google.com/github/GCR1997/Principios-de-programaci-n-y-analisis-de-datos/blob/main/Indice_de_cadena_de_texto.ipynb\" target=\"_parent\"><img src=\"https://colab.research.google.com/assets/colab-badge.svg\" alt=\"Open In Colab\"/></a>"
      ]
    },
    {
      "cell_type": "code",
      "execution_count": 2,
      "metadata": {
        "colab": {
          "base_uri": "https://localhost:8080/"
        },
        "id": "nEcoLzHnJLzA",
        "outputId": "186a8030-603e-4bb9-a790-649ac7df1b5c"
      },
      "outputs": [
        {
          "output_type": "stream",
          "name": "stdout",
          "text": [
            "b\n",
            "i\n",
            "e\n",
            "n\n",
            "v\n",
            "e\n",
            "n\n",
            "i\n"
          ]
        }
      ],
      "source": [
        "palabra=('bienvenidos')\n",
        "print(palabra[0])\n",
        "print(palabra[1])\n",
        "print(palabra[2])\n",
        "print(palabra[3])\n",
        "print(palabra[4])\n",
        "print(palabra[5])\n",
        "print(palabra[6])\n",
        "print(palabra[7])"
      ]
    }
  ]
}